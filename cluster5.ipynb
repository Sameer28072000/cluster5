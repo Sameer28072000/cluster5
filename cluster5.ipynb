{
 "cells": [
  {
   "cell_type": "markdown",
   "id": "39e4e473-68a8-43a2-b9d8-610906ad3289",
   "metadata": {},
   "source": [
    "Q1. What is a contingency matrix, and how is it used to evaluate the performance of a classification model?"
   ]
  },
  {
   "cell_type": "code",
   "execution_count": null,
   "id": "00d18815-a927-4c2d-bb8b-6ecc930b060d",
   "metadata": {},
   "outputs": [],
   "source": [
    "Ans:-A contingency matrix, also known as a confusion matrix or an error matrix.\n",
    "     ex:-\n",
    "       i.True Positive (TP)\n",
    "         ii.False Positive (FP)\n",
    "            iii.False Negative (FN)\n",
    "               iv.True Negative (TN)"
   ]
  },
  {
   "cell_type": "markdown",
   "id": "8ae7b50e-665f-4e6d-8b20-ca458a58079f",
   "metadata": {},
   "source": [
    "Q2. How is a pair confusion matrix different from a regular confusion matrix, and why might it be useful in\n",
    "certain situations?"
   ]
  },
  {
   "cell_type": "code",
   "execution_count": null,
   "id": "a5aed799-e74f-4946-b117-b1c32cfe2d9d",
   "metadata": {},
   "outputs": [],
   "source": [
    "Ans:-The main difference between a regular confusion matrix and \n",
    "        a pair confusion matrix lies in their purpose and scope of evaluation. \n",
    "       i.imbalanced classification\n",
    "        ii.one-one classification"
   ]
  },
  {
   "cell_type": "markdown",
   "id": "e262493b-d25b-4b86-bf71-63e155c0c579",
   "metadata": {},
   "source": [
    "Q3. What is an extrinsic measure in the context of natural language processing, and how is it typically\n",
    "used to evaluate the performance of language models?"
   ]
  },
  {
   "cell_type": "code",
   "execution_count": null,
   "id": "7f83f8c7-4cb3-4735-9e0f-b6cebe6c4d67",
   "metadata": {},
   "outputs": [],
   "source": [
    "Ans:-An extrinsic measure is an evaluation metric that assesses the performance of a language model or\n",
    "       NLP system based on its performance in a downstream task or application.\n",
    "    \n",
    "      To evaluate the performance of language models:-\n",
    "        i.Define a downstream task\n",
    "          ii.Train & evaluate the model\n",
    "            iii.Compare with baselines"
   ]
  },
  {
   "cell_type": "markdown",
   "id": "e760028e-18d6-43de-8cec-cd916dfc995d",
   "metadata": {},
   "source": [
    "Q4. What is an intrinsic measure in the context of machine learning, and how does it differ from an\n",
    "extrinsic measure?"
   ]
  },
  {
   "cell_type": "code",
   "execution_count": null,
   "id": "b9382c0a-4fec-490e-a04e-12628e47cb88",
   "metadata": {},
   "outputs": [],
   "source": [
    "Ans:-In the context of machine learning, intrinsic measures are evaluation metrics that assess the performance of a model\n",
    "        based on its characteristics & properties.\n",
    "     Intrinsic measures help understand the models capabilities and limitations, guide the training.\n",
    "        Both intrinsic and extrinsic measures play important roles in evaluating machine learning models."
   ]
  },
  {
   "cell_type": "markdown",
   "id": "e0d02e31-e945-43d6-b8cf-53ac537c939f",
   "metadata": {},
   "source": [
    "Q5. What is the purpose of a confusion matrix in machine learning, and how can it be used to identify\n",
    "strengths and weaknesses of a model?"
   ]
  },
  {
   "cell_type": "code",
   "execution_count": null,
   "id": "30affa8e-a316-4f42-a1c6-77130284e261",
   "metadata": {},
   "outputs": [],
   "source": [
    "Ans:-By analyzing the values in the confusion matrix, performance metrics can be calculated, accuracy, precision, recall, and \n",
    "       F1 score, which provide insights into different aspects of the models performance.\n",
    "    \n",
    "    Strengths and weaknesses of a model:-\n",
    "      i.overall accuracy\n",
    "        ii.error analysis"
   ]
  },
  {
   "cell_type": "markdown",
   "id": "7ad241f9-6b8c-4f67-8fe5-9b3a8a5bf902",
   "metadata": {},
   "source": [
    "Q6. What are some common intrinsic measures used to evaluate the performance of unsupervised\n",
    "learning algorithms, and how can they be interpreted?"
   ]
  },
  {
   "cell_type": "code",
   "execution_count": null,
   "id": "15db165f-ffc1-440c-bb0a-e9b272f08387",
   "metadata": {},
   "outputs": [],
   "source": [
    "Ans:- Intrinsic measures used to evaluate the performance of unsupervised learning algorithms\n",
    "        i.Silhouette Coefficient\n",
    "          ii.Davies-Bouldin Index"
   ]
  },
  {
   "cell_type": "markdown",
   "id": "1de325c4-9d09-426f-9bbf-2c126de06bc9",
   "metadata": {},
   "source": [
    "Q7. What are some limitations of using accuracy as a sole evaluation metric for classification tasks, and\n",
    "how can these limitations be addressed?"
   ]
  },
  {
   "cell_type": "code",
   "execution_count": null,
   "id": "1c6bed42-5c26-4dd2-a249-c5e3cf49b298",
   "metadata": {},
   "outputs": [],
   "source": [
    "Ans:-Limitation\n",
    "      i.imbalanced data\n",
    "       ii.cost-sensitive scenario"
   ]
  }
 ],
 "metadata": {
  "kernelspec": {
   "display_name": "Python 3 (ipykernel)",
   "language": "python",
   "name": "python3"
  },
  "language_info": {
   "codemirror_mode": {
    "name": "ipython",
    "version": 3
   },
   "file_extension": ".py",
   "mimetype": "text/x-python",
   "name": "python",
   "nbconvert_exporter": "python",
   "pygments_lexer": "ipython3",
   "version": "3.10.8"
  }
 },
 "nbformat": 4,
 "nbformat_minor": 5
}
